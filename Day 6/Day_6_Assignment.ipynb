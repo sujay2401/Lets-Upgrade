{
 "cells": [
  {
   "cell_type": "code",
   "execution_count": 9,
   "metadata": {},
   "outputs": [
    {
     "name": "stdout",
     "output_type": "stream",
     "text": [
      "Please enter your email address: sujay@microfocus.com\n",
      "Microfocus\n"
     ]
    }
   ],
   "source": [
    "'''Question 1:\n",
    "Assuming that we have some email addresses in the \"username@companyname.com\" format, please write program\n",
    "to print the company name of a given email address. Both user names and company names are composed of letters\n",
    "only.\n",
    "Input Format:\n",
    "The first line of the input contains an email address.\n",
    "Output Format:\n",
    "Print the company name in single line.\n",
    "Example;\n",
    "Input:\n",
    "john@google.com\n",
    "Output:\n",
    "google'''\n",
    "\n",
    "emailID =  input('Please enter your email address: ')\n",
    "\n",
    "list1 = emailID.split('@')\n",
    "list2 = list1[1].split('.') \n",
    "\n",
    "print(list2[0].title())\n"
   ]
  },
  {
   "cell_type": "code",
   "execution_count": 12,
   "metadata": {},
   "outputs": [
    {
     "name": "stdout",
     "output_type": "stream",
     "text": [
      "Ajay,Appu,Atharv,Kana,Munni,Sujay\n"
     ]
    }
   ],
   "source": [
    "'''Question 2: \n",
    "Write a program that accepts a comma-separated sequence of words as input and prints the words in a comma\n",
    "separated sequence after sorting them alphabetically.\n",
    "Input Format:\n",
    "The first line of input contains words separated by the comma.\n",
    "Output Format:\n",
    "Print the sorted words separated by the comma.\n",
    "Example:\n",
    "Input:\n",
    "without,hello,bag,world\n",
    "Output:\n",
    "bag,hello,without,world'''\n",
    "\n",
    "def sortStringCommaSeperated(s):\n",
    "    str = sorted(s.split(','))\n",
    "    return ','.join(str)\n",
    "\n",
    "list = 'Ajay,Sujay,Atharv,Appu,Munni,Kana'\n",
    "print(sortStringCommaSeperated(list))"
   ]
  },
  {
   "cell_type": "markdown",
   "metadata": {},
   "source": [
    "'''Question 3:Create your own Jupyter Notebook for Sets. Reference link: https://www.w3schools.com/python/python_sets.asp'''\n",
    "\n",
    "# Set\n",
    "### A set is a collection which is unordered and unindexed. In Python sets are written with curly brackets.\n"
   ]
  },
  {
   "cell_type": "code",
   "execution_count": 15,
   "metadata": {},
   "outputs": [
    {
     "name": "stdout",
     "output_type": "stream",
     "text": [
      "{'Chikko', 'Pomogranate', 'Apple'}\n"
     ]
    }
   ],
   "source": [
    "#Example \n",
    "\n",
    "fruits = {'Apple', 'Chikko','Pomogranate'}\n",
    "print(fruits)"
   ]
  },
  {
   "cell_type": "markdown",
   "metadata": {},
   "source": [
    "# How to access each element in Set"
   ]
  },
  {
   "cell_type": "code",
   "execution_count": 18,
   "metadata": {},
   "outputs": [
    {
     "name": "stdout",
     "output_type": "stream",
     "text": [
      "Chikko\n",
      "Pomogranate\n",
      "Apple\n"
     ]
    }
   ],
   "source": [
    "fruits = {'Apple', 'Chikko','Pomogranate'}\n",
    "\n",
    "for i in fruits:\n",
    "    print(i)"
   ]
  },
  {
   "cell_type": "markdown",
   "metadata": {},
   "source": [
    "# How to add or update the element in set"
   ]
  },
  {
   "cell_type": "code",
   "execution_count": 25,
   "metadata": {},
   "outputs": [
    {
     "name": "stdout",
     "output_type": "stream",
     "text": [
      "After adding Grapes: {'Grapes', 'Chikko', 'Pomogranate', 'Apple'}\n",
      "After adding Grapes: {'Orange', 'Grapes', 'Apple', 'Pomogranate', 'Chikko', 'Gauva'}\n"
     ]
    }
   ],
   "source": [
    "fruits = {'Apple', 'Chikko','Pomogranate'}\n",
    "\n",
    "fruits.add('Grapes')\n",
    "print('After adding Grapes:',fruits)\n",
    "\n",
    "fruits.update(['Gauva','Orange'])\n",
    "print('After adding Grapes:',fruits)"
   ]
  },
  {
   "cell_type": "markdown",
   "metadata": {},
   "source": [
    "# How to find the length and removing the elements in set"
   ]
  },
  {
   "cell_type": "code",
   "execution_count": 31,
   "metadata": {},
   "outputs": [
    {
     "name": "stdout",
     "output_type": "stream",
     "text": [
      "6\n",
      "{'Apple', 'Grapes', 'Pomogranate', 'Chikko', 'Gauva'}\n"
     ]
    },
    {
     "ename": "KeyError",
     "evalue": "'Orange'",
     "output_type": "error",
     "traceback": [
      "\u001b[1;31m---------------------------------------------------------------------------\u001b[0m",
      "\u001b[1;31mKeyError\u001b[0m                                  Traceback (most recent call last)",
      "\u001b[1;32m<ipython-input-31-6a7a0502e8f7>\u001b[0m in \u001b[0;36m<module>\u001b[1;34m()\u001b[0m\n\u001b[0;32m      4\u001b[0m \u001b[0mfruits\u001b[0m\u001b[1;33m.\u001b[0m\u001b[0mremove\u001b[0m\u001b[1;33m(\u001b[0m\u001b[1;34m'Orange'\u001b[0m\u001b[1;33m)\u001b[0m\u001b[1;33m\u001b[0m\u001b[0m\n\u001b[0;32m      5\u001b[0m \u001b[0mprint\u001b[0m\u001b[1;33m(\u001b[0m\u001b[0mfruits\u001b[0m\u001b[1;33m)\u001b[0m\u001b[1;33m\u001b[0m\u001b[0m\n\u001b[1;32m----> 6\u001b[1;33m \u001b[0mfruits\u001b[0m\u001b[1;33m.\u001b[0m\u001b[0mremove\u001b[0m\u001b[1;33m(\u001b[0m\u001b[1;34m'Orange'\u001b[0m\u001b[1;33m)\u001b[0m\u001b[1;33m\u001b[0m\u001b[0m\n\u001b[0m\u001b[0;32m      7\u001b[0m \u001b[0mprint\u001b[0m\u001b[1;33m(\u001b[0m\u001b[0mfruits\u001b[0m\u001b[1;33m)\u001b[0m\u001b[1;33m\u001b[0m\u001b[0m\n",
      "\u001b[1;31mKeyError\u001b[0m: 'Orange'"
     ]
    }
   ],
   "source": [
    "fruits = {'Orange', 'Grapes', 'Apple', 'Pomogranate', 'Chikko', 'Gauva'}\n",
    "\n",
    "print(len(fruits))\n",
    "fruits.remove('Orange')\n",
    "print(fruits)\n",
    "fruits.remove('Orange')\n",
    "print(fruits)"
   ]
  },
  {
   "cell_type": "code",
   "execution_count": null,
   "metadata": {},
   "outputs": [],
   "source": []
  },
  {
   "cell_type": "code",
   "execution_count": 30,
   "metadata": {
    "scrolled": true
   },
   "outputs": [
    {
     "name": "stdout",
     "output_type": "stream",
     "text": [
      "{'Orange', 'Apple', 'Grapes', 'Pomogranate', 'Chikko'}\n"
     ]
    }
   ],
   "source": [
    "fruits = {'Orange', 'Grapes', 'Apple', 'Pomogranate', 'Chikko', 'Gauva'}\n",
    "\n",
    "fruits.discard('Gauva')\n",
    "fruits.discard('Guava')\n",
    "print(fruits)"
   ]
  },
  {
   "cell_type": "markdown",
   "metadata": {},
   "source": [
    "# Usage of pop(), clear(), del in sets"
   ]
  },
  {
   "cell_type": "code",
   "execution_count": 36,
   "metadata": {},
   "outputs": [
    {
     "name": "stdout",
     "output_type": "stream",
     "text": [
      "{'Apple', 'Grapes', 'Pomogranate', 'Chikko', 'Gauva'}\n",
      "set()\n"
     ]
    },
    {
     "ename": "NameError",
     "evalue": "name 'fruits' is not defined",
     "output_type": "error",
     "traceback": [
      "\u001b[1;31m---------------------------------------------------------------------------\u001b[0m",
      "\u001b[1;31mNameError\u001b[0m                                 Traceback (most recent call last)",
      "\u001b[1;32m<ipython-input-36-b3fc35852f61>\u001b[0m in \u001b[0;36m<module>\u001b[1;34m()\u001b[0m\n\u001b[0;32m      8\u001b[0m \u001b[0mfruits\u001b[0m \u001b[1;33m=\u001b[0m \u001b[1;33m{\u001b[0m\u001b[1;34m'Orange'\u001b[0m\u001b[1;33m,\u001b[0m \u001b[1;34m'Grapes'\u001b[0m\u001b[1;33m,\u001b[0m \u001b[1;34m'Apple'\u001b[0m\u001b[1;33m,\u001b[0m \u001b[1;34m'Pomogranate'\u001b[0m\u001b[1;33m,\u001b[0m \u001b[1;34m'Chikko'\u001b[0m\u001b[1;33m,\u001b[0m \u001b[1;34m'Gauva'\u001b[0m\u001b[1;33m}\u001b[0m\u001b[1;33m\u001b[0m\u001b[0m\n\u001b[0;32m      9\u001b[0m \u001b[1;32mdel\u001b[0m \u001b[0mfruits\u001b[0m\u001b[1;33m\u001b[0m\u001b[0m\n\u001b[1;32m---> 10\u001b[1;33m \u001b[0mprint\u001b[0m\u001b[1;33m(\u001b[0m\u001b[0mfruits\u001b[0m\u001b[1;33m)\u001b[0m\u001b[1;33m\u001b[0m\u001b[0m\n\u001b[0m",
      "\u001b[1;31mNameError\u001b[0m: name 'fruits' is not defined"
     ]
    }
   ],
   "source": [
    "fruits = {'Orange', 'Grapes', 'Apple', 'Pomogranate', 'Chikko', 'Gauva'}\n",
    "\n",
    "fruits.pop()\n",
    "print(fruits)\n",
    "fruits.clear()\n",
    "print(fruits)\n",
    "\n",
    "fruits = {'Orange', 'Grapes', 'Apple', 'Pomogranate', 'Chikko', 'Gauva'}\n",
    "del fruits\n",
    "print(fruits)\n"
   ]
  },
  {
   "cell_type": "code",
   "execution_count": 57,
   "metadata": {},
   "outputs": [
    {
     "name": "stdout",
     "output_type": "stream",
     "text": [
      "Enter the number in space seperated format: 109 108 107 12 24 36 48 12 60 24 72 84 36 96 12 120\n",
      "final output is :  109 108 107 12 24 36 48 60 72 84 96 120\n"
     ]
    }
   ],
   "source": [
    "'''Question 5:\n",
    "With a given list L, write a program to print this list L after removing all duplicate values with original order reserved.\n",
    "Example:\n",
    "If the input list is\n",
    "12 24 35 24 88 120 155 88 120 155\n",
    "Then the output should be\n",
    "12 24 35 88 120 155\n",
    "Explanation:\n",
    "Third, seventh and ninth element of the list L has been removed because it was already present.\n",
    "Input Format:\n",
    "In one line take the elements of the list L with each element separated by a space.\n",
    "Output Format:\n",
    "Print the elements of the modified list in one line with each element separated by a space.\n",
    "Example:\n",
    "Input: 12 24 35 24\n",
    "Output:\n",
    "12 24 35'''\n",
    "\n",
    "def number(list):\n",
    "    noDupList = []\n",
    "    \n",
    "    for n in list:\n",
    "        if n not in noDupList:\n",
    "            noDupList.append(n)\n",
    "    return (noDupList)\n",
    "\n",
    "list = input(\"Enter the number in space seperated format: \")\n",
    "\n",
    "final_list = []\n",
    "\n",
    "for num in list.split():\n",
    "    final_list.append(num)\n",
    "output = number(final_list)\n",
    "print('final output is : ',*output)\n",
    "\n",
    "\n",
    "            "
   ]
  },
  {
   "cell_type": "code",
   "execution_count": 73,
   "metadata": {},
   "outputs": [
    {
     "name": "stdout",
     "output_type": "stream",
     "text": [
      "Enter the number in space seperated format with no duplicates: 1 2 4 5 7 9 10\n",
      "1 ['1', '2', '4', '5', '7', '9', '10']\n",
      "2 [1, 2, 4, 5, 7, 9, 10]\n",
      "final output is :  3 6 8\n"
     ]
    }
   ],
   "source": [
    "'''Question 4:\n",
    "Given a list of n-1 numbers ranging from 1 to n, your task is to find the missing number. There are no duplicates.\n",
    "Input Format:\n",
    "The first line contains n-1 numbers with each number separated by a space.\n",
    "Output Format:\n",
    "Print the missing number\n",
    "Example:\n",
    "Input:1 2 4 6 3 7 8\n",
    "Output:5\n",
    "Explanation:\n",
    "In the above list of numbers 5 is missing and hence 5 is the input'''\n",
    "\n",
    "def missing_no(num):\n",
    "    return[x for x in range(num[0],num[-1]+1) if x not in num] \n",
    "    \n",
    "list = input(\"Enter the number in space seperated format with no duplicates: \")\n",
    "\n",
    "final_list = []\n",
    "\n",
    "for num in list.split():\n",
    "    final_list.append(num)\n",
    "print ('1',final_list)\n",
    "\n",
    "IntList = [int(i) for i in final_list]\n",
    "print('2',IntList)\n",
    "\n",
    "\n",
    "output = missing_no(IntList)\n",
    "print('final output is : ',*output)\n",
    "    \n",
    "    \n",
    "#list = missing_no([2,3,6,7,8,3,4,10,13,15,20])\n",
    "#print('List of elements space seperated:',*list)"
   ]
  },
  {
   "cell_type": "code",
   "execution_count": null,
   "metadata": {},
   "outputs": [],
   "source": []
  },
  {
   "cell_type": "code",
   "execution_count": null,
   "metadata": {},
   "outputs": [],
   "source": []
  },
  {
   "cell_type": "code",
   "execution_count": null,
   "metadata": {},
   "outputs": [],
   "source": []
  }
 ],
 "metadata": {
  "kernelspec": {
   "display_name": "Python 3",
   "language": "python",
   "name": "python3"
  },
  "language_info": {
   "codemirror_mode": {
    "name": "ipython",
    "version": 3
   },
   "file_extension": ".py",
   "mimetype": "text/x-python",
   "name": "python",
   "nbconvert_exporter": "python",
   "pygments_lexer": "ipython3",
   "version": "3.7.0"
  }
 },
 "nbformat": 4,
 "nbformat_minor": 2
}
